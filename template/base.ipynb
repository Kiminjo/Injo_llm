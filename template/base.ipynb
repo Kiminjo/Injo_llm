{
 "cells": [
  {
   "cell_type": "markdown",
   "metadata": {},
   "source": [
    "# Base Pipelin for Machine project\n",
    "\n",
    "이 노트북 파일은 제가 머신러닝 프로젝트 진행 시 사용하는 표준 파이프라인입니다. \n",
    "\n",
    "본 파이프라인은 머신러닝 워크플로우에 따라 작성되었습니다. \n",
    "\n",
    "1. 데이터 불러오기 \n",
    "2. 데이터 전처리 \n",
    "3. 모델 불러오기 \n",
    "4. (선택) 모델 학습 및 튜닝 \n",
    "5. 추론 \n",
    "6. 모델 평가 \n",
    "7. 피드백 "
   ]
  },
  {
   "cell_type": "code",
   "execution_count": null,
   "metadata": {},
   "outputs": [],
   "source": [
    "# IO \n",
    "from typing import Union, Dict, Any\n",
    "from pathlib import Path"
   ]
  },
  {
   "cell_type": "markdown",
   "metadata": {},
   "source": [
    "## 1. 데이터 불러오기 \n",
    "\n",
    "- 모델 학습 또는 추론에 사용할 데이터를 불러오는 함수입니다. \n",
    "- 함수 입력: 데이터 소스 경로 파일로, str 또는 Path 타입으로 구성됩니다. \n",
    "- 함수 출력: 딕셔너리 형태로, 원천 데이터의 키 값은 \"data\", 그외 메타 데이터의 키 값은 \"meta\"로 구성됩니다. "
   ]
  },
  {
   "cell_type": "code",
   "execution_count": null,
   "metadata": {},
   "outputs": [],
   "source": [
    "def get_data(data_src: Union[str, Path]) -> Dict[str, str]:\n",
    "    pass"
   ]
  },
  {
   "cell_type": "code",
   "execution_count": null,
   "metadata": {},
   "outputs": [],
   "source": [
    "# 테스트용 코드 셀 "
   ]
  },
  {
   "cell_type": "markdown",
   "metadata": {},
   "source": [
    "## 2. 데이터 전처리 \n",
    "- 원천 데이터를 입력으로 받아 전처리를 진행하는 함수입니다. \n",
    "- 함수 입력: 딕셔너리 형태로 원천 데이터를 포함하고 있습니다. `get_data` 함수의 출력을 입력으로 받습니다. \n",
    "- 함수 출력: 딕셔너리 형태로 전처리된 데이터를 포함하고 있습니다. 전처리된 데이터의 키 값은 \"processed\", 그외 전처리된 메타 데이터의 키 값은 \"meta\"로 구성됩니다. "
   ]
  },
  {
   "cell_type": "code",
   "execution_count": null,
   "metadata": {},
   "outputs": [],
   "source": [
    "def preprocessing(data: Dict[str, str]) -> Dict[str, str]:\n",
    "    pass"
   ]
  },
  {
   "cell_type": "code",
   "execution_count": null,
   "metadata": {},
   "outputs": [],
   "source": [
    "# 테스트용 코드 셀 "
   ]
  },
  {
   "cell_type": "markdown",
   "metadata": {},
   "source": [
    "## 3. 모델 불러오기 \n",
    "\n",
    "- 머신러닝 모델을 호출합니다. 여러개의 모델을 필요로 한다면 딕셔너리에 모델 객체를 담아 반환합니다."
   ]
  },
  {
   "cell_type": "code",
   "execution_count": null,
   "metadata": {},
   "outputs": [],
   "source": [
    "def get_model() -> Union[Any, Dict[Any]]:\n",
    "    pass"
   ]
  },
  {
   "cell_type": "code",
   "execution_count": null,
   "metadata": {},
   "outputs": [],
   "source": [
    "# 테스트용 코드 셀 "
   ]
  },
  {
   "cell_type": "markdown",
   "metadata": {},
   "source": [
    "## 4. (선택) 모델 학습 및 튜닝 \n",
    "\n",
    "- 1, 2에서 확보한 데이터를 바탕으로 모델을 학습하기 위한 함수입니다. \n",
    "- LLM과 같이 학습이 필요없는 경우, 진행하지 않아도 됩니다.\n",
    "- 함수 입력: 모델 및 데이터 \n",
    "- 함수 출력: train 및 validation metric을 딕셔너리 형태로 반환합니다. 각 키 값은 \"train\", \"validation\"으로 구성됩니다. "
   ]
  },
  {
   "cell_type": "code",
   "execution_count": null,
   "metadata": {},
   "outputs": [],
   "source": [
    "def train(model: Dict[Any], \n",
    "          data: Dict[str, str]\n",
    "          ):\n",
    "    pass"
   ]
  },
  {
   "cell_type": "code",
   "execution_count": null,
   "metadata": {},
   "outputs": [],
   "source": [
    "# 테스트용 코드 셀 "
   ]
  },
  {
   "cell_type": "markdown",
   "metadata": {},
   "source": [
    "## 5. 추론 \n",
    "- 학습된 모델과 데이터를 이용하여 추론을 진행합니다. \n",
    "- 함수 입력: 모델 및 추론용 데이터 \n",
    "- 함수 출력: 추론 결과를 딕셔너리 형태로 반환합니다. 추론 결과의 키 값은 \"output\"으로 구성됩니다."
   ]
  },
  {
   "cell_type": "code",
   "execution_count": null,
   "metadata": {},
   "outputs": [],
   "source": [
    "def inference(model: Dict[Any], \n",
    "              data: Dict[str, str]\n",
    "              ) -> Dict[str]:\n",
    "    pass"
   ]
  },
  {
   "cell_type": "code",
   "execution_count": null,
   "metadata": {},
   "outputs": [],
   "source": []
  }
 ],
 "metadata": {
  "kernelspec": {
   "display_name": "injo-llm-BhhCcSUy-py3.10",
   "language": "python",
   "name": "python3"
  },
  "language_info": {
   "name": "python",
   "version": "3.10.4"
  }
 },
 "nbformat": 4,
 "nbformat_minor": 2
}
